{
 "cells": [
  {
   "cell_type": "markdown",
   "metadata": {},
   "source": [
    "# BMI Conversion In Python\n",
    "\n",
    "Note that the functions defined below use pythons <a href='https://morioh.com/p/3bb404e776bc'>modf function</a> from it's math library"
   ]
  },
  {
   "cell_type": "code",
   "execution_count": 1,
   "metadata": {
    "tags": []
   },
   "outputs": [],
   "source": [
    "import math\n",
    "\n",
    "def pounds_to_kg(pounds_value):\n",
    "    '''This function converts weight in pounds to kg\n",
    "    Args: takes in a value in pounds(lbs).\n",
    "    result: Returns single value in kgs.'''\n",
    "    return (float(pounds_value) * 0.45359237)\n",
    "\n",
    "\n",
    "def kg_to_pounds(kg_value):\n",
    "    '''This function converts weight in kg to pounds\n",
    "    Args: takes in a value in kilogram (kg).\n",
    "    result: Returns single value in pounds.'''\n",
    "    return (float(kg_value) * 2.2046226218)\n",
    "\n",
    "\n",
    "def cm_to_feet_inches(cm_value):\n",
    "    '''This function converts the height in cm to feet and inches \n",
    "    Args: takes in a value in cm.\n",
    "    result: Returns two values, a tuple. A value in feet and another for inches.'''\n",
    "    converted_value = float(cm_value) / 30.48\n",
    "    inch_value, foot_value = math.modf(converted_value)\n",
    "    #modf returns two values decimal and integer aspects\n",
    "    # math.modf(100.12) returns  (0.12000000000000455, 100.0)\n",
    "    inch_value = inch_value *12\n",
    "    \n",
    "    return (foot_value , inch_value)\n",
    "\n",
    "\n",
    "def feet_inches_to_cm(feet_value_tuple):\n",
    "    '''This function converts the height in feet and inches to centimeters \n",
    "    Args: takes in a tuple of values (feet,inches)  in feet and inches \n",
    "    result: height in cm.'''\n",
    "\n",
    "    if type(feet_value_tuple) == tuple:\n",
    "        foot_value, inch_value  = feet_value_tuple\n",
    "        new_foot_value = foot_value * 30.48\n",
    "        new_inch_value = inch_value * 2.54\n",
    "        \n",
    "        return (new_foot_value + new_inch_value)\n",
    "\n",
    "\n",
    "def cm_to_meters(cm_value):\n",
    "    '''This function converts height in cm to meters\n",
    "    Args: takes in a value in centimeters (cm).\n",
    "    result: Returns single value in meters.'''\n",
    "    return (float(cm_value) / 100.0)\n",
    "\n",
    "\n",
    "def calculate_bmi(weight, height):\n",
    "    '''This function calculates the BMI\n",
    "    Args: weight in kilograms & height in meters\n",
    "    result: bmi and rating value ie. Overweight, Underweight.'''\n",
    "    #BMI = Weight in KG/ (Height in Meters^2)\n",
    "    bmi = weight / (height**2)\n",
    "    if bmi < 18.5:\n",
    "        rating = 'Under'\n",
    "    if bmi >= 18.5 and bmi <= 25:\n",
    "        rating = 'Normal'\n",
    "    if bmi >= 25 and bmi < 30:\n",
    "        rating = 'Over'\n",
    "    if bmi >= 30:\n",
    "        rating = 'Obese'    \n",
    "    return(bmi, rating)\n",
    "\n",
    "\n",
    "def get_ratings():\n",
    "   ratings = 'Less than 18.5 = Underweight; Between 18.5 - 24.9 = Healthy Weight; Between 25 - 29.9 = Overweight; Over 30 = Obese'\n",
    "   return(ratings)"
   ]
  },
  {
   "cell_type": "code",
   "execution_count": 2,
   "metadata": {
    "scrolled": true
   },
   "outputs": [
    {
     "data": {
      "text/plain": [
       "215.39163014986002"
      ]
     },
     "execution_count": 2,
     "metadata": {},
     "output_type": "execute_result"
    }
   ],
   "source": [
    "#convert weight in kg to pounds\n",
    "kg_to_pounds(97.7)"
   ]
  },
  {
   "cell_type": "code",
   "execution_count": 3,
   "metadata": {},
   "outputs": [
    {
     "data": {
      "text/plain": [
       "97.52235955"
      ]
     },
     "execution_count": 3,
     "metadata": {},
     "output_type": "execute_result"
    }
   ],
   "source": [
    "#convert weight in pounds to kg\n",
    "pounds_to_kg(215)"
   ]
  },
  {
   "cell_type": "code",
   "execution_count": 4,
   "metadata": {},
   "outputs": [
    {
     "data": {
      "text/plain": [
       "(5.0, 10.000000000000007)"
      ]
     },
     "execution_count": 4,
     "metadata": {},
     "output_type": "execute_result"
    }
   ],
   "source": [
    "#convert height in cm to feet and inches\n",
    "cm_to_feet_inches(177.8)"
   ]
  },
  {
   "cell_type": "code",
   "execution_count": 5,
   "metadata": {},
   "outputs": [
    {
     "data": {
      "text/plain": [
       "(5.0, 11.968503937007881)"
      ]
     },
     "execution_count": 5,
     "metadata": {},
     "output_type": "execute_result"
    }
   ],
   "source": [
    "    #Testing the modf functions\n",
    "    cm_val = 182.8 \n",
    "    inch_value, foot_value = math.modf((cm_val/ 30.48))\n",
    "    foot_value , inch_value*12"
   ]
  },
  {
   "cell_type": "code",
   "execution_count": 6,
   "metadata": {},
   "outputs": [
    {
     "data": {
      "text/plain": [
       "154.94"
      ]
     },
     "execution_count": 6,
     "metadata": {},
     "output_type": "execute_result"
    }
   ],
   "source": [
    "feet_inches_to_cm((5,1))"
   ]
  },
  {
   "cell_type": "code",
   "execution_count": 7,
   "metadata": {},
   "outputs": [
    {
     "data": {
      "text/plain": [
       "1.0"
      ]
     },
     "execution_count": 7,
     "metadata": {},
     "output_type": "execute_result"
    }
   ],
   "source": [
    "cm_to_meters(100)"
   ]
  },
  {
   "cell_type": "code",
   "execution_count": 8,
   "metadata": {},
   "outputs": [
    {
     "data": {
      "text/plain": [
       "(22.301065010293286, 'Normal')"
      ]
     },
     "execution_count": 8,
     "metadata": {},
     "output_type": "execute_result"
    }
   ],
   "source": [
    "calculate_bmi(70.5, 177.8/100)"
   ]
  },
  {
   "cell_type": "code",
   "execution_count": 9,
   "metadata": {},
   "outputs": [
    {
     "data": {
      "text/plain": [
       "'Less than 18.5 = Underweight; Between 18.5 - 24.9 = Healthy Weight; Between 25 - 29.9 = Overweight; Over 30 = Obese'"
      ]
     },
     "execution_count": 9,
     "metadata": {},
     "output_type": "execute_result"
    }
   ],
   "source": [
    "get_ratings()"
   ]
  },
  {
   "cell_type": "markdown",
   "metadata": {},
   "source": [
    "## Testing the Functions in Calculating BMI Values"
   ]
  },
  {
   "cell_type": "code",
   "execution_count": 10,
   "metadata": {},
   "outputs": [],
   "source": [
    "height = (5,4)\n",
    "weight = 60"
   ]
  },
  {
   "cell_type": "code",
   "execution_count": 11,
   "metadata": {
    "tags": []
   },
   "outputs": [
    {
     "name": "stdout",
     "output_type": "stream",
     "text": [
      "60 kg  1.6256 cmeters \n"
     ]
    }
   ],
   "source": [
    "height = feet_inches_to_cm(height)\n",
    "height = cm_to_meters(height)\n",
    "print(weight,'kg ', height,'cmeters ')"
   ]
  },
  {
   "cell_type": "code",
   "execution_count": 12,
   "metadata": {
    "tags": []
   },
   "outputs": [
    {
     "name": "stdout",
     "output_type": "stream",
     "text": [
      "Your bmi is:  22.705123535247072\n",
      "Interpretation:  Less than 18.5 = Underweight; Between 18.5 - 24.9 = Healthy Weight; Between 25 - 29.9 = Overweight; Over 30 = Obese\n"
     ]
    }
   ],
   "source": [
    "bmi, rating = calculate_bmi(weight, height)\n",
    "print ('Your bmi is: ',bmi)\n",
    "print('Interpretation: ',get_ratings())"
   ]
  }
 ],
 "metadata": {
  "kernelspec": {
   "display_name": "Python 3 (ipykernel)",
   "language": "python",
   "name": "python3"
  },
  "language_info": {
   "codemirror_mode": {
    "name": "ipython",
    "version": 3
   },
   "file_extension": ".py",
   "mimetype": "text/x-python",
   "name": "python",
   "nbconvert_exporter": "python",
   "pygments_lexer": "ipython3",
   "version": "3.9.7"
  }
 },
 "nbformat": 4,
 "nbformat_minor": 2
}
